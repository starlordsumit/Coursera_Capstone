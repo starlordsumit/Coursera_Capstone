{
 "cells": [
  {
   "cell_type": "markdown",
   "metadata": {
    "collapsed": true
   },
   "source": [
    "\n",
    "# Data\n",
    "\n",
    "\n",
    "</br>\n",
    "\n",
    "\n",
    "## To help Sumit set up a gaming arcade, we will get the data from the below sources\n",
    "\n",
    "\n",
    "</br>\n",
    "\n",
    "\n",
    "* List of all the cities in United States with population density and coordinates:\n",
    "  https://en.wikipedia.org/wiki/List_of_United_States_cities_by_population\n",
    "\n",
    "</br>\n",
    "\n",
    "* List of all the cities in United States with Per Capita Income : \n",
    "  https://en.wikipedia.org/wiki/List_of_United_States_counties_by_per_capita_income\n",
    "\n",
    "\n",
    "</br>\n",
    "\n",
    "\n",
    "### Using Four Square API to get the following\n",
    "\n",
    "\n",
    "</br>\n",
    "\n",
    "\n",
    "* List of all venues in each city\n",
    "* List of all venues in each locality in the selected city\n",
    "\n",
    "</br>\n",
    "\n",
    "Using the above data we will first select best city to proceed with based on the values like Population density, per capita income of the state, number of venues (as we are giving weights to each venue based on its category).\n",
    "\n",
    "</br>\n",
    "\n",
    "Once we select a city, we then go hunting for Localities. Again, we do it using the same approach i.e. based on the scores of venues in each locality. Once"
   ]
  },
  {
   "cell_type": "code",
   "execution_count": null,
   "metadata": {},
   "outputs": [],
   "source": []
  }
 ],
 "metadata": {
  "kernelspec": {
   "display_name": "Python 3.6",
   "language": "python",
   "name": "python3"
  },
  "language_info": {
   "codemirror_mode": {
    "name": "ipython",
    "version": 3
   },
   "file_extension": ".py",
   "mimetype": "text/x-python",
   "name": "python",
   "nbconvert_exporter": "python",
   "pygments_lexer": "ipython3",
   "version": "3.6.9"
  }
 },
 "nbformat": 4,
 "nbformat_minor": 1
}
